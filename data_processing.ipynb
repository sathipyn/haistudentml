{
 "cells": [
  {
   "cell_type": "code",
   "execution_count": 51,
   "metadata": {},
   "outputs": [],
   "source": [
    "import cv2\n",
    "import numpy as np\n",
    "import os"
   ]
  },
  {
   "cell_type": "code",
   "execution_count": 52,
   "metadata": {},
   "outputs": [],
   "source": [
    "# Folder dataset\n",
    "dataset_path = 'images'\n",
    "label_path = 'labels.txt'  # File teks yang berisi label setiap gambar\n"
   ]
  },
  {
   "cell_type": "code",
   "execution_count": 53,
   "metadata": {},
   "outputs": [],
   "source": [
    "# Variabel untuk menyimpan data\n",
    "images = []\n",
    "labels = []\n"
   ]
  },
  {
   "cell_type": "code",
   "execution_count": 54,
   "metadata": {},
   "outputs": [],
   "source": [
    "# Load gambar dan label\n",
    "with open(label_path, 'r') as f:\n",
    "    label_data = f.readlines()\n"
   ]
  },
  {
   "cell_type": "code",
   "execution_count": 55,
   "metadata": {},
   "outputs": [],
   "source": [
    "for i, file_name in enumerate(os.listdir(dataset_path)):\n",
    "    img_path = os.path.join(dataset_path, file_name)\n",
    "    img = cv2.imread(img_path, cv2.IMREAD_GRAYSCALE)  # Load gambar dalam grayscale\n",
    "    img = cv2.resize(img, (128, 32))  # Resize gambar sesuai ukuran model OCR\n",
    "    img = img / 255.0  # Normalisasi\n",
    "    images.append(img)\n",
    "    labels.append(label_data[i].strip())  # Ambil label dari file teks"
   ]
  },
  {
   "cell_type": "code",
   "execution_count": 56,
   "metadata": {},
   "outputs": [],
   "source": [
    "# Convert ke array NumPy\n",
    "images = np.array(images).reshape(-1, 32, 128, 1)  # Format (batch_size, height, width, channels)\n",
    "labels = np.array(labels)"
   ]
  },
  {
   "cell_type": "code",
   "execution_count": 57,
   "metadata": {},
   "outputs": [
    {
     "name": "stdout",
     "output_type": "stream",
     "text": [
      "Jumlah gambar: 100\n",
      "Jumlah label: 100\n"
     ]
    }
   ],
   "source": [
    "print(f\"Jumlah gambar: {len(images)}\")\n",
    "print(f\"Jumlah label: {len(labels)}\")"
   ]
  },
  {
   "cell_type": "code",
   "execution_count": 58,
   "metadata": {},
   "outputs": [],
   "source": [
    "# Menyimpan data ke dalam file .npz\n",
    "np.savez('processed_data.npz', images=images, labels=labels)"
   ]
  }
 ],
 "metadata": {
  "kernelspec": {
   "display_name": "Python 3",
   "language": "python",
   "name": "python3"
  },
  "language_info": {
   "codemirror_mode": {
    "name": "ipython",
    "version": 3
   },
   "file_extension": ".py",
   "mimetype": "text/x-python",
   "name": "python",
   "nbconvert_exporter": "python",
   "pygments_lexer": "ipython3",
   "version": "3.10.6"
  }
 },
 "nbformat": 4,
 "nbformat_minor": 2
}
